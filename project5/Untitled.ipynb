{
 "cells": [
  {
   "cell_type": "code",
   "execution_count": 3,
   "metadata": {},
   "outputs": [
    {
     "name": "stdout",
     "output_type": "stream",
     "text": [
      "testStrUnicode= 中文测试Unicode字符串\n",
      "------------ 1.UTF-8 write and read ------------\n",
      "--- (1) write UTF-8 string into file ---\n",
      "--- (2) read out previously written UTF-8 content ---\n",
      "readOutStrUnicodeFromUtf8= 中文测试Unicode字符串\n",
      "------------ 2.GBK write and read ------------\n",
      "--- (1) write GBK string into file ---\n",
      "--- (2) read out previously written GBK content ---\n",
      "readOutStrUnicodeFromGbk= 中文测试Unicode字符串\n"
     ]
    }
   ],
   "source": [
    "import codecs;\n",
    " \n",
    "def python_codecs_demo():\n",
    "    \"\"\"demo how to use codecs to handle file with specific encoding\"\"\"\n",
    "    testStrUnicode = u\"中文测试Unicode字符串\";\n",
    "    print \"testStrUnicode=\",testStrUnicode\n",
    "    testStrUtf8 = testStrUnicode.encode(\"UTF-8\");\n",
    "    testStrGbk = testStrUnicode.encode(\"GBK\");\n",
    " \n",
    "    outputFilename = \"outputFile.txt\"\n",
    " \n",
    "    print \"------------ 1.UTF-8 write and read ------------\"\n",
    "    print \"--- (1) write UTF-8 string into file ---\"\n",
    "    # 'a+': read,write,append\n",
    "    # 'w' : clear before, then write\n",
    "    outputFp = codecs.open(outputFilename, 'w');\n",
    "    outputFp.write(testStrUtf8);\n",
    "    outputFp.flush();\n",
    "    outputFp.close();\n",
    "    print \"--- (2) read out previously written UTF-8 content ---\"\n",
    "    readoutFp = codecs.open(outputFilename, 'r', 'UTF-8');\n",
    "    #here already is unicode, for we have pass \"UTF-8\" to codecs.open\n",
    "    readOutStrUnicodeFromUtf8 = readoutFp.read()\n",
    "    readoutFp.close();\n",
    "    print \"readOutStrUnicodeFromUtf8=\",readOutStrUnicodeFromUtf8\n",
    " \n",
    "    print \"------------ 2.GBK write and read ------------\"\n",
    "    print \"--- (1) write GBK string into file ---\"\n",
    "    # 'a+': read,write,append\n",
    "    # 'w' : clear before, then write\n",
    "    outputFp = codecs.open(outputFilename, 'w');\n",
    "    outputFp.write(testStrGbk);\n",
    "    outputFp.flush();\n",
    "    outputFp.close();\n",
    "    print \"--- (2) read out previously written GBK content ---\"\n",
    "    readoutFp = codecs.open(outputFilename, 'r', 'GBK');\n",
    "    #here already is unicode, for we have pass \"GBK\" to codecs.open\n",
    "    readOutStrUnicodeFromGbk = readoutFp.read()\n",
    "    readoutFp.close();\n",
    "    print \"readOutStrUnicodeFromGbk=\",readOutStrUnicodeFromGbk\n",
    " \n",
    "   \n",
    " \n",
    "if __name__ == \"__main__\":\n",
    "    python_codecs_demo()"
   ]
  },
  {
   "cell_type": "code",
   "execution_count": null,
   "metadata": {
    "collapsed": true
   },
   "outputs": [],
   "source": []
  }
 ],
 "metadata": {
  "kernelspec": {
   "display_name": "Python 2",
   "language": "python",
   "name": "python2"
  },
  "language_info": {
   "codemirror_mode": {
    "name": "ipython",
    "version": 2
   },
   "file_extension": ".py",
   "mimetype": "text/x-python",
   "name": "python",
   "nbconvert_exporter": "python",
   "pygments_lexer": "ipython2",
   "version": "2.7.13"
  }
 },
 "nbformat": 4,
 "nbformat_minor": 2
}
